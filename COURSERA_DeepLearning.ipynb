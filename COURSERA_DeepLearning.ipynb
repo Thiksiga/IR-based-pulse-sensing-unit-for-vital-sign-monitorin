{
  "nbformat": 4,
  "nbformat_minor": 0,
  "metadata": {
    "colab": {
      "provenance": [],
      "authorship_tag": "ABX9TyNOvKgA5ZDfqslJ2IwT3p+o",
      "include_colab_link": true
    },
    "kernelspec": {
      "name": "python3",
      "display_name": "Python 3"
    },
    "language_info": {
      "name": "python"
    }
  },
  "cells": [
    {
      "cell_type": "markdown",
      "metadata": {
        "id": "view-in-github",
        "colab_type": "text"
      },
      "source": [
        "<a href=\"https://colab.research.google.com/github/Thiksiga/IR-based-pulse-sensing-unit-for-vital-sign-monitorin/blob/main/COURSERA_DeepLearning.ipynb\" target=\"_parent\"><img src=\"https://colab.research.google.com/assets/colab-badge.svg\" alt=\"Open In Colab\"/></a>"
      ]
    },
    {
      "cell_type": "markdown",
      "source": [
        "VECTORIZATION-WEEK02"
      ],
      "metadata": {
        "id": "93TimmjKhDlq"
      }
    },
    {
      "cell_type": "code",
      "source": [
        "import numpy as np\n",
        "a=np.array([1,2,3,4,5])\n",
        "print(a)"
      ],
      "metadata": {
        "colab": {
          "base_uri": "https://localhost:8080/"
        },
        "id": "adbaNYe7hI5Y",
        "outputId": "52e4d40b-8ee2-4a4b-b641-a2206bb7c9d2"
      },
      "execution_count": 2,
      "outputs": [
        {
          "output_type": "stream",
          "name": "stdout",
          "text": [
            "[1 2 3 4 5]\n"
          ]
        }
      ]
    },
    {
      "cell_type": "code",
      "source": [
        "import time\n",
        "\n",
        "#creating random arrys with million elements\n",
        "a=np.random.rand(1000000)\n",
        "b=np.random.rand(1000000)\n",
        "\n",
        "#Getting current time\n",
        "time1=time.time()\n",
        "\n",
        "#function\n",
        "c=np.dot(a,b)\n",
        "\n",
        "#Getting current time\n",
        "time2=time.time()\n",
        "\n",
        "process_time=time2-time1\n",
        "print(\"process time for vectorized version \"+str(process_time*1000)+\" ms\")\n"
      ],
      "metadata": {
        "colab": {
          "base_uri": "https://localhost:8080/"
        },
        "id": "51tfRR4GNTw_",
        "outputId": "c6117d18-ab31-4f3e-8d29-1078714b2ceb"
      },
      "execution_count": 4,
      "outputs": [
        {
          "output_type": "stream",
          "name": "stdout",
          "text": [
            "process time for vectorized version 2.427816390991211 ms\n"
          ]
        }
      ]
    },
    {
      "cell_type": "code",
      "source": [
        "#Getting current time\n",
        "time3=time.time()\n",
        "\n",
        "#function\n",
        "for i in range(1000000):\n",
        "  c+=a[i]*b[i]\n",
        "\n",
        "#Getting current time\n",
        "time4=time.time()\n",
        "\n",
        "process_time=time4-time3\n",
        "print(\"process time for non-vectorized version \"+str(process_time*1000)+\" ms\")"
      ],
      "metadata": {
        "colab": {
          "base_uri": "https://localhost:8080/"
        },
        "id": "NOk5SLIVXYgH",
        "outputId": "abf09df2-7f13-4c00-ff7c-a559991f6a62"
      },
      "execution_count": 5,
      "outputs": [
        {
          "output_type": "stream",
          "name": "stdout",
          "text": [
            "process time for non-vectorized version 414.0198230743408 ms\n"
          ]
        }
      ]
    }
  ]
}